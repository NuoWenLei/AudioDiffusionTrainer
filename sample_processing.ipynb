{
 "cells": [
  {
   "cell_type": "code",
   "execution_count": 1,
   "metadata": {},
   "outputs": [],
   "source": [
    "import pandas as pd\n",
    "import os"
   ]
  },
  {
   "cell_type": "code",
   "execution_count": 2,
   "metadata": {},
   "outputs": [
    {
     "data": {
      "text/plain": [
       "172"
      ]
     },
     "execution_count": 2,
     "metadata": {},
     "output_type": "execute_result"
    }
   ],
   "source": [
    "path = \"./samples/\"\n",
    "sample_dfs = []\n",
    "for fn in os.listdir(path):\n",
    "\tsample_dfs.append(pd.read_csv(path + fn))\n",
    "len(sample_dfs)"
   ]
  },
  {
   "cell_type": "code",
   "execution_count": 4,
   "metadata": {},
   "outputs": [
    {
     "data": {
      "text/plain": [
       "(5504, 11)"
      ]
     },
     "execution_count": 4,
     "metadata": {},
     "output_type": "execute_result"
    }
   ],
   "source": [
    "sample_df = pd.concat(sample_dfs, axis = 0)\n",
    "sample_df.shape"
   ]
  },
  {
   "cell_type": "code",
   "execution_count": 6,
   "metadata": {},
   "outputs": [
    {
     "data": {
      "text/plain": [
       "True     5237\n",
       "False     267\n",
       "Name: download_status, dtype: int64"
      ]
     },
     "execution_count": 6,
     "metadata": {},
     "output_type": "execute_result"
    }
   ],
   "source": [
    "sample_df[\"download_status\"].value_counts()"
   ]
  },
  {
   "cell_type": "code",
   "execution_count": 7,
   "metadata": {},
   "outputs": [
    {
     "data": {
      "text/plain": [
       "(267, 11)"
      ]
     },
     "execution_count": 7,
     "metadata": {},
     "output_type": "execute_result"
    }
   ],
   "source": [
    "errored_samples = sample_df[sample_df[\"download_status\"] == False]\n",
    "errored_samples.shape"
   ]
  },
  {
   "cell_type": "code",
   "execution_count": 18,
   "metadata": {},
   "outputs": [],
   "source": [
    "from tqdm import tqdm\n",
    "from pydub import AudioSegment\n"
   ]
  },
  {
   "cell_type": "code",
   "execution_count": 20,
   "metadata": {},
   "outputs": [
    {
     "data": {
      "text/plain": [
       "0    v592zQpuaJA\n",
       "1    v5SsASLy2c8\n",
       "2    v5nB2OJnCko\n",
       "3    v6A7Iggebm4\n",
       "4    v88cAXP03As\n",
       "Name: ytid, dtype: object"
      ]
     },
     "execution_count": 20,
     "metadata": {},
     "output_type": "execute_result"
    }
   ],
   "source": [
    "sample_df[\"ytid\"].head()"
   ]
  },
  {
   "cell_type": "code",
   "execution_count": 26,
   "metadata": {},
   "outputs": [
    {
     "name": "stderr",
     "output_type": "stream",
     "text": [
      "100%|██████████| 267/267 [00:00<00:00, 687.30it/s]"
     ]
    },
    {
     "name": "stdout",
     "output_type": "stream",
     "text": [
      "0\n"
     ]
    },
    {
     "name": "stderr",
     "output_type": "stream",
     "text": [
      "\n"
     ]
    }
   ],
   "source": [
    "count = 0\n",
    "ids = []\n",
    "for id in tqdm(errored_samples[\"ytid\"].values):\n",
    "    if os.path.isfile(f\"./music_data/{id}.mp3\"):\n",
    "        os.remove(f\"./music_data/{id}.mp3\")\n",
    "print(count)"
   ]
  },
  {
   "cell_type": "code",
   "execution_count": 11,
   "metadata": {},
   "outputs": [
    {
     "name": "stdout",
     "output_type": "stream",
     "text": [
      "ZZrvO__SNtA.m4a.part\n",
      "_hYBs0xee9Y.m4a.part\n",
      "TkclVqlyKx4.m4a.part\n",
      "xxCnmao8FAs.m4a.part\n",
      "6xxu6f0f0e4.m4a.part\n",
      "tpamd6BKYU4.m4a.part\n",
      "6\n"
     ]
    }
   ],
   "source": [
    "count = 0\n",
    "for fn in os.listdir(f\"./music_data/\"):\n",
    "    if not fn.endswith(\".mp3\"):\n",
    "        print(fn)\n",
    "        os.remove(\"./music_data/\" + fn)\n",
    "        count += 1\n",
    "        \n",
    "print(count)"
   ]
  },
  {
   "cell_type": "code",
   "execution_count": 14,
   "metadata": {},
   "outputs": [],
   "source": [
    "from IPython.display import Audio"
   ]
  },
  {
   "cell_type": "code",
   "execution_count": 21,
   "metadata": {},
   "outputs": [
    {
     "data": {
      "text/plain": [
       "10000"
      ]
     },
     "execution_count": 21,
     "metadata": {},
     "output_type": "execute_result"
    }
   ],
   "source": [
    "aud = AudioSegment.from_mp3(\"./music_data/v592zQpuaJA.mp3\")\n",
    "len(aud)"
   ]
  },
  {
   "cell_type": "code",
   "execution_count": 25,
   "metadata": {},
   "outputs": [],
   "source": [
    "sample_df[sample_df[\"download_status\"]].to_csv(\"samples.csv\", index = False)"
   ]
  },
  {
   "attachments": {},
   "cell_type": "markdown",
   "metadata": {},
   "source": [
    "## Test out datasets column to numpy"
   ]
  },
  {
   "cell_type": "code",
   "execution_count": 1,
   "metadata": {},
   "outputs": [
    {
     "name": "stderr",
     "output_type": "stream",
     "text": [
      "/Users/nuowenlei/Documents/GitHub/AudioDiffusionTrainer/audioTrain/lib/python3.7/site-packages/tqdm/auto.py:22: TqdmWarning: IProgress not found. Please update jupyter and ipywidgets. See https://ipywidgets.readthedocs.io/en/stable/user_install.html\n",
      "  from .autonotebook import tqdm as notebook_tqdm\n"
     ]
    }
   ],
   "source": [
    "import datasets\n",
    "import pandas as pd\n",
    "import numpy as np\n",
    "\n",
    "\n",
    "df = pd.read_csv(\"samples.csv\")"
   ]
  },
  {
   "cell_type": "code",
   "execution_count": 2,
   "metadata": {},
   "outputs": [],
   "source": [
    "from data_loader import DataLoader"
   ]
  },
  {
   "cell_type": "code",
   "execution_count": 8,
   "metadata": {},
   "outputs": [
    {
     "data": {
      "text/plain": [
       "Index(['ytid', 'start_s', 'end_s', 'audioset_positive_labels', 'aspect_list',\n",
       "       'caption', 'author_id', 'is_balanced_subset', 'is_audioset_eval',\n",
       "       'audio', 'download_status'],\n",
       "      dtype='object')"
      ]
     },
     "execution_count": 8,
     "metadata": {},
     "output_type": "execute_result"
    }
   ],
   "source": [
    "df.columns"
   ]
  },
  {
   "cell_type": "code",
   "execution_count": 9,
   "metadata": {},
   "outputs": [],
   "source": [
    "loader = DataLoader(\"samples.csv\", \"music_data/\", \"audio\", returnDataset = False, targetColumn=\"caption\")"
   ]
  },
  {
   "cell_type": "code",
   "execution_count": 10,
   "metadata": {},
   "outputs": [
    {
     "name": "stderr",
     "output_type": "stream",
     "text": [
      "                                                           \r"
     ]
    }
   ],
   "source": [
    "batch = loader.nextBatch()"
   ]
  },
  {
   "cell_type": "code",
   "execution_count": 11,
   "metadata": {},
   "outputs": [
    {
     "data": {
      "text/plain": [
       "2"
      ]
     },
     "execution_count": 11,
     "metadata": {},
     "output_type": "execute_result"
    }
   ],
   "source": [
    "len(batch)"
   ]
  },
  {
   "cell_type": "code",
   "execution_count": 15,
   "metadata": {},
   "outputs": [
    {
     "data": {
      "text/plain": [
       "(32,)"
      ]
     },
     "execution_count": 15,
     "metadata": {},
     "output_type": "execute_result"
    }
   ],
   "source": [
    "batch[1].shape"
   ]
  },
  {
   "cell_type": "code",
   "execution_count": 6,
   "metadata": {},
   "outputs": [],
   "source": [
    "batch = batch.with_format(\"np\")\n",
    "audio = batch[\"audioArray\"]"
   ]
  },
  {
   "cell_type": "code",
   "execution_count": 9,
   "metadata": {},
   "outputs": [
    {
     "data": {
      "text/plain": [
       "(32, 262144)"
      ]
     },
     "execution_count": 9,
     "metadata": {},
     "output_type": "execute_result"
    }
   ],
   "source": []
  },
  {
   "cell_type": "code",
   "execution_count": 14,
   "metadata": {},
   "outputs": [
    {
     "data": {
      "text/html": [
       "<div>\n",
       "<style scoped>\n",
       "    .dataframe tbody tr th:only-of-type {\n",
       "        vertical-align: middle;\n",
       "    }\n",
       "\n",
       "    .dataframe tbody tr th {\n",
       "        vertical-align: top;\n",
       "    }\n",
       "\n",
       "    .dataframe thead th {\n",
       "        text-align: right;\n",
       "    }\n",
       "</style>\n",
       "<table border=\"1\" class=\"dataframe\">\n",
       "  <thead>\n",
       "    <tr style=\"text-align: right;\">\n",
       "      <th></th>\n",
       "      <th>ytid</th>\n",
       "      <th>start_s</th>\n",
       "      <th>end_s</th>\n",
       "      <th>audioset_positive_labels</th>\n",
       "      <th>aspect_list</th>\n",
       "      <th>caption</th>\n",
       "      <th>author_id</th>\n",
       "      <th>is_balanced_subset</th>\n",
       "      <th>is_audioset_eval</th>\n",
       "      <th>audio</th>\n",
       "      <th>download_status</th>\n",
       "      <th>audioPath</th>\n",
       "    </tr>\n",
       "  </thead>\n",
       "  <tbody>\n",
       "    <tr>\n",
       "      <th>0</th>\n",
       "      <td>v592zQpuaJA</td>\n",
       "      <td>390</td>\n",
       "      <td>400</td>\n",
       "      <td>/m/0hdsk,/m/0l14t7</td>\n",
       "      <td>['low quality', 'noisy', 'resonating bowl soun...</td>\n",
       "      <td>The low quality recording features a resonatin...</td>\n",
       "      <td>4</td>\n",
       "      <td>False</td>\n",
       "      <td>False</td>\n",
       "      <td>./music_data/v592zQpuaJA.mp3</td>\n",
       "      <td>True</td>\n",
       "      <td>./music_data/v592zQpuaJA.mp3</td>\n",
       "    </tr>\n",
       "    <tr>\n",
       "      <th>1</th>\n",
       "      <td>v5SsASLy2c8</td>\n",
       "      <td>210</td>\n",
       "      <td>220</td>\n",
       "      <td>/m/01kcd,/m/01wy6,/m/06ncr</td>\n",
       "      <td>['amateur recording', 'orchestral', 'saxophone...</td>\n",
       "      <td>This audio contains people playing saxophones ...</td>\n",
       "      <td>6</td>\n",
       "      <td>False</td>\n",
       "      <td>False</td>\n",
       "      <td>./music_data/v5SsASLy2c8.mp3</td>\n",
       "      <td>True</td>\n",
       "      <td>./music_data/v5SsASLy2c8.mp3</td>\n",
       "    </tr>\n",
       "    <tr>\n",
       "      <th>2</th>\n",
       "      <td>v5nB2OJnCko</td>\n",
       "      <td>10</td>\n",
       "      <td>20</td>\n",
       "      <td>/m/04rlf,/t/dd00037</td>\n",
       "      <td>['movie soundtrack', 'violins trilling', 'phil...</td>\n",
       "      <td>The track is instrumental. The tempo changes b...</td>\n",
       "      <td>1</td>\n",
       "      <td>True</td>\n",
       "      <td>True</td>\n",
       "      <td>./music_data/v5nB2OJnCko.mp3</td>\n",
       "      <td>True</td>\n",
       "      <td>./music_data/v5nB2OJnCko.mp3</td>\n",
       "    </tr>\n",
       "    <tr>\n",
       "      <th>3</th>\n",
       "      <td>v6A7Iggebm4</td>\n",
       "      <td>180</td>\n",
       "      <td>190</td>\n",
       "      <td>/m/015lz1,/m/0342h,/m/04rlf,/m/0fx80y,/t/dd00004</td>\n",
       "      <td>['low quality', 'noisy', 'shimmering shaker', ...</td>\n",
       "      <td>The low quality recording features a cover of ...</td>\n",
       "      <td>4</td>\n",
       "      <td>True</td>\n",
       "      <td>True</td>\n",
       "      <td>./music_data/v6A7Iggebm4.mp3</td>\n",
       "      <td>True</td>\n",
       "      <td>./music_data/v6A7Iggebm4.mp3</td>\n",
       "    </tr>\n",
       "    <tr>\n",
       "      <th>4</th>\n",
       "      <td>v88cAXP03As</td>\n",
       "      <td>70</td>\n",
       "      <td>80</td>\n",
       "      <td>/m/025td0t,/m/02v2lh,/m/04rlf</td>\n",
       "      <td>['synth pad', 'synth plucks', 'acoustic guitar...</td>\n",
       "      <td>A female voice is singing with a little bit of...</td>\n",
       "      <td>6</td>\n",
       "      <td>True</td>\n",
       "      <td>True</td>\n",
       "      <td>./music_data/v88cAXP03As.mp3</td>\n",
       "      <td>True</td>\n",
       "      <td>./music_data/v88cAXP03As.mp3</td>\n",
       "    </tr>\n",
       "  </tbody>\n",
       "</table>\n",
       "</div>"
      ],
      "text/plain": [
       "          ytid  start_s  end_s  \\\n",
       "0  v592zQpuaJA      390    400   \n",
       "1  v5SsASLy2c8      210    220   \n",
       "2  v5nB2OJnCko       10     20   \n",
       "3  v6A7Iggebm4      180    190   \n",
       "4  v88cAXP03As       70     80   \n",
       "\n",
       "                           audioset_positive_labels  \\\n",
       "0                                /m/0hdsk,/m/0l14t7   \n",
       "1                        /m/01kcd,/m/01wy6,/m/06ncr   \n",
       "2                               /m/04rlf,/t/dd00037   \n",
       "3  /m/015lz1,/m/0342h,/m/04rlf,/m/0fx80y,/t/dd00004   \n",
       "4                     /m/025td0t,/m/02v2lh,/m/04rlf   \n",
       "\n",
       "                                         aspect_list  \\\n",
       "0  ['low quality', 'noisy', 'resonating bowl soun...   \n",
       "1  ['amateur recording', 'orchestral', 'saxophone...   \n",
       "2  ['movie soundtrack', 'violins trilling', 'phil...   \n",
       "3  ['low quality', 'noisy', 'shimmering shaker', ...   \n",
       "4  ['synth pad', 'synth plucks', 'acoustic guitar...   \n",
       "\n",
       "                                             caption  author_id  \\\n",
       "0  The low quality recording features a resonatin...          4   \n",
       "1  This audio contains people playing saxophones ...          6   \n",
       "2  The track is instrumental. The tempo changes b...          1   \n",
       "3  The low quality recording features a cover of ...          4   \n",
       "4  A female voice is singing with a little bit of...          6   \n",
       "\n",
       "   is_balanced_subset  is_audioset_eval                         audio  \\\n",
       "0               False             False  ./music_data/v592zQpuaJA.mp3   \n",
       "1               False             False  ./music_data/v5SsASLy2c8.mp3   \n",
       "2                True              True  ./music_data/v5nB2OJnCko.mp3   \n",
       "3                True              True  ./music_data/v6A7Iggebm4.mp3   \n",
       "4                True              True  ./music_data/v88cAXP03As.mp3   \n",
       "\n",
       "   download_status                     audioPath  \n",
       "0             True  ./music_data/v592zQpuaJA.mp3  \n",
       "1             True  ./music_data/v5SsASLy2c8.mp3  \n",
       "2             True  ./music_data/v5nB2OJnCko.mp3  \n",
       "3             True  ./music_data/v6A7Iggebm4.mp3  \n",
       "4             True  ./music_data/v88cAXP03As.mp3  "
      ]
     },
     "execution_count": 14,
     "metadata": {},
     "output_type": "execute_result"
    }
   ],
   "source": [
    "import pandas as pd\n",
    "\n",
    "df = pd.read_csv(\"samples_1.csv\")\n",
    "df.head()"
   ]
  },
  {
   "cell_type": "code",
   "execution_count": 15,
   "metadata": {},
   "outputs": [
    {
     "data": {
      "text/plain": [
       "True"
      ]
     },
     "execution_count": 15,
     "metadata": {},
     "output_type": "execute_result"
    }
   ],
   "source": [
    "\"9ogEGxsJcSY\" in df[\"ytid\"].values"
   ]
  },
  {
   "cell_type": "code",
   "execution_count": 16,
   "metadata": {},
   "outputs": [
    {
     "data": {
      "text/plain": [
       "(5237,)"
      ]
     },
     "execution_count": 16,
     "metadata": {},
     "output_type": "execute_result"
    }
   ],
   "source": [
    "df[\"ytid\"].shape"
   ]
  },
  {
   "cell_type": "code",
   "execution_count": 8,
   "metadata": {},
   "outputs": [
    {
     "data": {
      "text/plain": [
       "(5237, 12)"
      ]
     },
     "execution_count": 8,
     "metadata": {},
     "output_type": "execute_result"
    }
   ],
   "source": [
    "df.shape"
   ]
  },
  {
   "cell_type": "code",
   "execution_count": 2,
   "metadata": {},
   "outputs": [
    {
     "data": {
      "text/plain": [
       "0    ./music_data/v592zQpuaJA.mp3\n",
       "1    ./music_data/v5SsASLy2c8.mp3\n",
       "2    ./music_data/v5nB2OJnCko.mp3\n",
       "3    ./music_data/v6A7Iggebm4.mp3\n",
       "4    ./music_data/v88cAXP03As.mp3\n",
       "Name: audioPath, dtype: object"
      ]
     },
     "execution_count": 2,
     "metadata": {},
     "output_type": "execute_result"
    }
   ],
   "source": [
    "df[\"audioPath\"] = [f\"./music_data/{ytid}.mp3\" for ytid in df[\"ytid\"].values]\n",
    "df[\"audioPath\"].head()"
   ]
  },
  {
   "cell_type": "code",
   "execution_count": 3,
   "metadata": {},
   "outputs": [],
   "source": [
    "df.to_csv(\"samples_1.csv\", index = False)"
   ]
  },
  {
   "cell_type": "code",
   "execution_count": 4,
   "metadata": {},
   "outputs": [
    {
     "data": {
      "text/plain": [
       "0    The low quality recording features a resonatin...\n",
       "1    This audio contains people playing saxophones ...\n",
       "2    The track is instrumental. The tempo changes b...\n",
       "3    The low quality recording features a cover of ...\n",
       "4    A female voice is singing with a little bit of...\n",
       "Name: caption, dtype: object"
      ]
     },
     "execution_count": 4,
     "metadata": {},
     "output_type": "execute_result"
    }
   ],
   "source": [
    "df[\"caption\"].head()"
   ]
  },
  {
   "cell_type": "code",
   "execution_count": null,
   "metadata": {},
   "outputs": [],
   "source": []
  }
 ],
 "metadata": {
  "kernelspec": {
   "display_name": "audioTrain",
   "language": "python",
   "name": "python3"
  },
  "language_info": {
   "codemirror_mode": {
    "name": "ipython",
    "version": 3
   },
   "file_extension": ".py",
   "mimetype": "text/x-python",
   "name": "python",
   "nbconvert_exporter": "python",
   "pygments_lexer": "ipython3",
   "version": "3.7.9"
  },
  "orig_nbformat": 4,
  "vscode": {
   "interpreter": {
    "hash": "0f4252ed0db2a5269bcea2d76a22723e89e6877c78c1a56bbf5a3fddc15d6ab5"
   }
  }
 },
 "nbformat": 4,
 "nbformat_minor": 2
}
